{
 "cells": [
  {
   "cell_type": "code",
   "execution_count": 1,
   "id": "554d11da",
   "metadata": {},
   "outputs": [],
   "source": [
    "import numpy as np\n",
    "import pandas as pd\n",
    "import matplotlib as mpl\n",
    "import matplotlib.pyplot as plt\n",
    "import matplotlib.ticker as mticker\n",
    "import matplotlib.dates as mdates\n",
    "import seaborn as sns"
   ]
  },
  {
   "cell_type": "code",
   "execution_count": 2,
   "id": "c366d15c",
   "metadata": {
    "scrolled": true
   },
   "outputs": [
    {
     "data": {
      "text/html": [
       "<div>\n",
       "<style scoped>\n",
       "    .dataframe tbody tr th:only-of-type {\n",
       "        vertical-align: middle;\n",
       "    }\n",
       "\n",
       "    .dataframe tbody tr th {\n",
       "        vertical-align: top;\n",
       "    }\n",
       "\n",
       "    .dataframe thead th {\n",
       "        text-align: right;\n",
       "    }\n",
       "</style>\n",
       "<table border=\"1\" class=\"dataframe\">\n",
       "  <thead>\n",
       "    <tr style=\"text-align: right;\">\n",
       "      <th></th>\n",
       "      <th>ID</th>\n",
       "      <th>Store_id</th>\n",
       "      <th>Store_Type</th>\n",
       "      <th>Location_Type</th>\n",
       "      <th>Region_Code</th>\n",
       "      <th>Date</th>\n",
       "      <th>Holiday</th>\n",
       "      <th>Discount</th>\n",
       "      <th>#Order</th>\n",
       "      <th>Sales</th>\n",
       "    </tr>\n",
       "  </thead>\n",
       "  <tbody>\n",
       "    <tr>\n",
       "      <th>0</th>\n",
       "      <td>T1000001</td>\n",
       "      <td>1</td>\n",
       "      <td>S1</td>\n",
       "      <td>L3</td>\n",
       "      <td>R1</td>\n",
       "      <td>2018-01-01</td>\n",
       "      <td>1</td>\n",
       "      <td>Yes</td>\n",
       "      <td>9</td>\n",
       "      <td>7011.84</td>\n",
       "    </tr>\n",
       "    <tr>\n",
       "      <th>1</th>\n",
       "      <td>T1000002</td>\n",
       "      <td>253</td>\n",
       "      <td>S4</td>\n",
       "      <td>L2</td>\n",
       "      <td>R1</td>\n",
       "      <td>2018-01-01</td>\n",
       "      <td>1</td>\n",
       "      <td>Yes</td>\n",
       "      <td>60</td>\n",
       "      <td>51789.12</td>\n",
       "    </tr>\n",
       "    <tr>\n",
       "      <th>2</th>\n",
       "      <td>T1000003</td>\n",
       "      <td>252</td>\n",
       "      <td>S3</td>\n",
       "      <td>L2</td>\n",
       "      <td>R1</td>\n",
       "      <td>2018-01-01</td>\n",
       "      <td>1</td>\n",
       "      <td>Yes</td>\n",
       "      <td>42</td>\n",
       "      <td>36868.20</td>\n",
       "    </tr>\n",
       "    <tr>\n",
       "      <th>3</th>\n",
       "      <td>T1000004</td>\n",
       "      <td>251</td>\n",
       "      <td>S2</td>\n",
       "      <td>L3</td>\n",
       "      <td>R1</td>\n",
       "      <td>2018-01-01</td>\n",
       "      <td>1</td>\n",
       "      <td>Yes</td>\n",
       "      <td>23</td>\n",
       "      <td>19715.16</td>\n",
       "    </tr>\n",
       "    <tr>\n",
       "      <th>4</th>\n",
       "      <td>T1000005</td>\n",
       "      <td>250</td>\n",
       "      <td>S2</td>\n",
       "      <td>L3</td>\n",
       "      <td>R4</td>\n",
       "      <td>2018-01-01</td>\n",
       "      <td>1</td>\n",
       "      <td>Yes</td>\n",
       "      <td>62</td>\n",
       "      <td>45614.52</td>\n",
       "    </tr>\n",
       "  </tbody>\n",
       "</table>\n",
       "</div>"
      ],
      "text/plain": [
       "         ID  Store_id Store_Type Location_Type Region_Code        Date  \\\n",
       "0  T1000001         1         S1            L3          R1  2018-01-01   \n",
       "1  T1000002       253         S4            L2          R1  2018-01-01   \n",
       "2  T1000003       252         S3            L2          R1  2018-01-01   \n",
       "3  T1000004       251         S2            L3          R1  2018-01-01   \n",
       "4  T1000005       250         S2            L3          R4  2018-01-01   \n",
       "\n",
       "   Holiday Discount  #Order     Sales  \n",
       "0        1      Yes       9   7011.84  \n",
       "1        1      Yes      60  51789.12  \n",
       "2        1      Yes      42  36868.20  \n",
       "3        1      Yes      23  19715.16  \n",
       "4        1      Yes      62  45614.52  "
      ]
     },
     "execution_count": 2,
     "metadata": {},
     "output_type": "execute_result"
    }
   ],
   "source": [
    "# Importing data\n",
    "train = pd.read_csv('TRAIN.csv')\n",
    "test = pd.read_csv('TEST_FINAL.csv')\n",
    "train.head()"
   ]
  },
  {
   "cell_type": "code",
   "execution_count": 3,
   "id": "93798a3e",
   "metadata": {},
   "outputs": [],
   "source": [
    "# Rename the values on \"Discount\" \n",
    "train['Discount'] = train['Discount'].map({'Yes': 1, 'No': 0})"
   ]
  },
  {
   "cell_type": "code",
   "execution_count": 4,
   "id": "8589c855",
   "metadata": {},
   "outputs": [
    {
     "name": "stdout",
     "output_type": "stream",
     "text": [
      "Data type per variable:\n",
      "ID                object\n",
      "Store_id           int64\n",
      "Store_Type        object\n",
      "Location_Type     object\n",
      "Region_Code       object\n",
      "Date              object\n",
      "Holiday            int64\n",
      "Discount           int64\n",
      "#Order             int64\n",
      "Sales            float64\n",
      "dtype: object\n"
     ]
    }
   ],
   "source": [
    "# Data types\n",
    "print('Data type per variable:')\n",
    "print(train.dtypes)"
   ]
  },
  {
   "cell_type": "code",
   "execution_count": 5,
   "id": "ac7e1d85",
   "metadata": {},
   "outputs": [],
   "source": [
    "# Changing data types\n",
    "train[['Store_id', 'Holiday', 'Discount']] = train[['Store_id', 'Holiday', 'Discount']].astype(object)\n",
    "train['Date'] = pd.to_datetime(train.Date)"
   ]
  },
  {
   "cell_type": "code",
   "execution_count": 6,
   "id": "3f0af5f0",
   "metadata": {},
   "outputs": [
    {
     "name": "stdout",
     "output_type": "stream",
     "text": [
      "Number of duplicates: 0\n",
      "Number of missing values: 0\n"
     ]
    }
   ],
   "source": [
    "# Do we have duplicates?\n",
    "print('Number of duplicates:', len(train[train.duplicated()]))\n",
    "\n",
    "# Do we have missing values?\n",
    "print('Number of missing values:', train.isnull().sum().sum())"
   ]
  },
  {
   "cell_type": "code",
   "execution_count": 7,
   "id": "24686102",
   "metadata": {},
   "outputs": [
    {
     "name": "stderr",
     "output_type": "stream",
     "text": [
      "findfont: Font family ['Source Sans Pro'] not found. Falling back to DejaVu Sans.\n",
      "findfont: Font family ['Source Sans Pro'] not found. Falling back to DejaVu Sans.\n",
      "findfont: Font family ['Source Sans Pro'] not found. Falling back to DejaVu Sans.\n"
     ]
    },
    {
     "data": {
      "image/png": "[encoded data removed]",
      "text/plain": [
       "<Figure size 648x432 with 1 Axes>"
      ]
     },
     "metadata": {},
     "output_type": "display_data"
    }
   ],
   "source": [
    "import matplotlib.pyplot as plt\n",
    "# Which are the best stores (by number of sells)?\n",
    "best_stores = train.groupby(['Store_id'], as_index=False)['Sales'].sum()        # sum sales from same store\n",
    "best_stores = best_stores.sort_values('Sales', ascending = False)                # sort data\n",
    "best_stores = best_stores.head(20)                                               # select top 20\n",
    "best_stores['Store_id'] = best_stores['Store_id'].astype(str)\n",
    "\n",
    "# Visualization\n",
    "fig, ax = plt.subplots(figsize =(9, 6))\n",
    "fig.patch.set_facecolor('#e4f2f7')\n",
    "ax.patch.set_facecolor('#e4f2f7')\n",
    "\n",
    "# For changing colors\n",
    "col1 = best_stores.head(1)\n",
    "col2 = best_stores.tail(19)\n",
    "\n",
    "ax.bar(col1.Store_id, col1.Sales, color = '#d4728c')\n",
    "ax.bar(col2.Store_id, col2.Sales, color = 'grey')\n",
    "\n",
    "# Remove ticks\n",
    "ax.xaxis.set_ticks_position('none')\n",
    "ax.yaxis.set_ticks_position('none')\n",
    "\n",
    "# Remove axes splines\n",
    "for i in ['top', 'bottom', 'left', 'right']:\n",
    "    ax.spines[i].set_visible(False)\n",
    "\n",
    "# Remove grid\n",
    "plt.grid(b=None)\n",
    "\n",
    "# Setting thousands with k\n",
    "ax.yaxis.set_major_formatter(mticker.EngFormatter())\n",
    "\n",
    "# Y axis position\n",
    "ax.spines['left'].set_position(('data', -0.5))\n",
    "\n",
    "# Font\n",
    "mpl.rcParams['font.family'] = 'Source Sans Pro'\n",
    "\n",
    "# Labels titles\n",
    "plt.xlabel('Stores Id', fontsize=11)\n",
    "plt.ylabel('Number of Sales', fontsize=11, labelpad=20)\n",
    "\n",
    "# Title\n",
    "plt.text(4.1, 56000000, \"Best\", size=22, color=\"grey\", fontweight=\"bold\")\n",
    "plt.text(6.2, 56000000, \"Stores\", size=22, color=\"#d4728c\", fontweight=\"bold\")\n",
    "plt.text(9.1, 56000000, \"by\", size=22, color=\"grey\")\n",
    "plt.text(10.3, 56000000,\"Total Sales\", size=22, color=\"grey\", fontweight=\"bold\")\n",
    "\n",
    "# Author\n",
    "plt.text(22.5, -5000000, \"@miguelfzzz\", fontsize=11, ha=\"right\", color='grey');"
   ]
  },
  {
   "cell_type": "code",
   "execution_count": 9,
   "id": "b2b0b24e",
   "metadata": {},
   "outputs": [
    {
     "ename": "NameError",
     "evalue": "name 'ticker' is not defined",
     "output_type": "error",
     "traceback": [
      "\u001b[1;31m---------------------------------------------------------------------------\u001b[0m",
      "\u001b[1;31mNameError\u001b[0m                                 Traceback (most recent call last)",
      "\u001b[1;32m~\\AppData\\Local\\Temp/ipykernel_1880/2055218671.py\u001b[0m in \u001b[0;36m<module>\u001b[1;34m\u001b[0m\n\u001b[0;32m     28\u001b[0m \u001b[1;33m\u001b[0m\u001b[0m\n\u001b[0;32m     29\u001b[0m \u001b[1;31m# Setting thousands with k\u001b[0m\u001b[1;33m\u001b[0m\u001b[1;33m\u001b[0m\u001b[0m\n\u001b[1;32m---> 30\u001b[1;33m \u001b[0max\u001b[0m\u001b[1;33m.\u001b[0m\u001b[0myaxis\u001b[0m\u001b[1;33m.\u001b[0m\u001b[0mset_major_formatter\u001b[0m\u001b[1;33m(\u001b[0m\u001b[0mticker\u001b[0m\u001b[1;33m.\u001b[0m\u001b[0mEngFormatter\u001b[0m\u001b[1;33m(\u001b[0m\u001b[1;33m)\u001b[0m\u001b[1;33m)\u001b[0m\u001b[1;33m\u001b[0m\u001b[1;33m\u001b[0m\u001b[0m\n\u001b[0m\u001b[0;32m     31\u001b[0m \u001b[1;33m\u001b[0m\u001b[0m\n\u001b[0;32m     32\u001b[0m \u001b[1;31m# Y axis position\u001b[0m\u001b[1;33m\u001b[0m\u001b[1;33m\u001b[0m\u001b[0m\n",
      "\u001b[1;31mNameError\u001b[0m: name 'ticker' is not defined"
     ]
    },
    {
     "data": {
      "image/png": "[encoded data removed]",
      "text/plain": [
       "<Figure size 648x432 with 1 Axes>"
      ]
     },
     "metadata": {},
     "output_type": "display_data"
    }
   ],
   "source": [
    "# Which are the best store types (by number of sales)?\n",
    "best_store_type = train.groupby(['Store_Type'], as_index=False)['Sales'].sum()    \n",
    "best_store_type = best_store_type.sort_values('Sales', ascending = False)                  \n",
    "best_store_type['Store_Type'] = best_store_type['Store_Type'].astype(str)\n",
    "\n",
    "# Visualization\n",
    "fig, ax = plt.subplots(figsize =(9, 6))\n",
    "fig.patch.set_facecolor('#e4f2f7')\n",
    "ax.patch.set_facecolor('#e4f2f7')\n",
    "\n",
    "# For changing colors\n",
    "col1 = best_store_type.head(1)\n",
    "col2 = best_store_type.tail(3)\n",
    "\n",
    "ax.bar(col1.Store_Type, col1.Sales, color = '#72d489')\n",
    "ax.bar(col2.Store_Type, col2.Sales, color = 'grey')\n",
    "\n",
    "# Remove ticks\n",
    "ax.xaxis.set_ticks_position('none')\n",
    "ax.yaxis.set_ticks_position('none')\n",
    "\n",
    "# Remove axes splines\n",
    "for i in ['top', 'bottom', 'left', 'right']:\n",
    "    ax.spines[i].set_visible(False)\n",
    "\n",
    "# Remove grid\n",
    "plt.grid(b=None)\n",
    "\n",
    "# Setting thousands with k\n",
    "ax.yaxis.set_major_formatter(ticker.EngFormatter())\n",
    "\n",
    "# Y axis position\n",
    "ax.spines['left'].set_position(('data', -0.5))\n",
    "\n",
    "# Font\n",
    "mpl.rcParams['font.family'] = 'Source Sans Pro'\n",
    "\n",
    "# Labels titles\n",
    "plt.xlabel('Store Types', fontsize=11)\n",
    "plt.ylabel('Number of Sales', fontsize=11, labelpad=20)\n",
    "\n",
    "# Title\n",
    "plt.text(0.25, 3555000000, \"Best\", size=22, color=\"grey\", fontweight=\"bold\")\n",
    "plt.text(0.65, 3555000000, \"Store Type\", size=22, color=\"#72d489\", fontweight=\"bold\")\n",
    "plt.text(1.6, 3555000000, \"by\", size=22, color=\"grey\")\n",
    "plt.text(1.82, 3555000000,\"Total Sales\", size=22, color=\"grey\", fontweight=\"bold\")\n",
    "\n",
    "# Author\n",
    "plt.text(22.5, -5000000, \"@miguelfzzz\", fontsize=11, ha=\"right\", color='grey');"
   ]
  },
  {
   "cell_type": "code",
   "execution_count": 11,
   "id": "4d141d1d",
   "metadata": {},
   "outputs": [
    {
     "ename": "NameError",
     "evalue": "name 'ticker' is not defined",
     "output_type": "error",
     "traceback": [
      "\u001b[1;31m---------------------------------------------------------------------------\u001b[0m",
      "\u001b[1;31mNameError\u001b[0m                                 Traceback (most recent call last)",
      "\u001b[1;32m~\\AppData\\Local\\Temp/ipykernel_1880/414284820.py\u001b[0m in \u001b[0;36m<module>\u001b[1;34m\u001b[0m\n\u001b[0;32m     25\u001b[0m \u001b[1;33m\u001b[0m\u001b[0m\n\u001b[0;32m     26\u001b[0m \u001b[1;31m# Setting thousands with k\u001b[0m\u001b[1;33m\u001b[0m\u001b[1;33m\u001b[0m\u001b[0m\n\u001b[1;32m---> 27\u001b[1;33m \u001b[0max\u001b[0m\u001b[1;33m.\u001b[0m\u001b[0myaxis\u001b[0m\u001b[1;33m.\u001b[0m\u001b[0mset_major_formatter\u001b[0m\u001b[1;33m(\u001b[0m\u001b[0mticker\u001b[0m\u001b[1;33m.\u001b[0m\u001b[0mEngFormatter\u001b[0m\u001b[1;33m(\u001b[0m\u001b[1;33m)\u001b[0m\u001b[1;33m)\u001b[0m\u001b[1;33m\u001b[0m\u001b[1;33m\u001b[0m\u001b[0m\n\u001b[0m\u001b[0;32m     28\u001b[0m \u001b[1;33m\u001b[0m\u001b[0m\n\u001b[0;32m     29\u001b[0m \u001b[1;31m# Font\u001b[0m\u001b[1;33m\u001b[0m\u001b[1;33m\u001b[0m\u001b[0m\n",
      "\u001b[1;31mNameError\u001b[0m: name 'ticker' is not defined"
     ]
    },
    {
     "data": {
      "image/png": "[encoded data removed]",
      "text/plain": [
       "<Figure size 648x432 with 1 Axes>"
      ]
     },
     "metadata": {},
     "output_type": "display_data"
    }
   ],
   "source": [
    "#Best months by sells\n",
    "best_month = train.copy()\n",
    "best_month['Month'] = best_month['Date'].apply(lambda x: x.strftime('%b-%Y')) \n",
    "best_month = best_month.groupby(['Month'], as_index=False)['Sales'].sum()  \n",
    "\n",
    "# Visualization\n",
    "fig, ax = plt.subplots(figsize =(9, 6))\n",
    "fig.patch.set_facecolor('#e4f2f7')\n",
    "ax.patch.set_facecolor('#e4f2f7')\n",
    "\n",
    "best_month_1 = best_month.sort_values('Sales', ascending = False).head(1)\n",
    "\n",
    "ax.plot(best_month.Month, best_month.Sales, marker='o', markerfacecolor='grey', color = 'gray', markersize=9)\n",
    "ax.plot(best_month_1.Month, best_month_1.Sales, marker='o', markerfacecolor='#5495c9', color = '#5495c9', markersize=16)\n",
    "\n",
    "plt.xticks(rotation=30)\n",
    "\n",
    "# Remove ticks\n",
    "ax.xaxis.set_ticks_position('none')\n",
    "ax.yaxis.set_ticks_position('none')\n",
    "\n",
    "# Remove axes splines\n",
    "for i in ['top', 'bottom', 'left', 'right']:\n",
    "    ax.spines[i].set_visible(False)\n",
    "\n",
    "# Setting thousands with k\n",
    "ax.yaxis.set_major_formatter(ticker.EngFormatter())\n",
    "\n",
    "# Font\n",
    "mpl.rcParams['font.family'] = 'Source Sans Pro'\n",
    "\n",
    "# Labels titles\n",
    "plt.ylabel('Number of Sales', fontsize=11, labelpad=20)\n",
    "\n",
    "# Annotations\n",
    "plt.text(13.4, 573000000, \"May 2019 has been\", size=10)\n",
    "plt.text(13.4, 566000000, \"the best month so far!\", size=10)\n",
    "\n",
    "\n",
    "# Title\n",
    "plt.text(3.45, 582000000, \"Best\", size=22, color=\"grey\", fontweight=\"bold\")\n",
    "plt.text(5.1, 582000000, \"Months\", size=22, color=\"#5495c9\", fontweight=\"bold\")\n",
    "plt.text(7.8, 582000000, \"by\", size=22, color=\"grey\")\n",
    "plt.text(8.8, 582000000,\"Total Sales\", size=22, color=\"grey\", fontweight=\"bold\")\n",
    "\n",
    "# Author\n",
    "plt.text(38, 43000, \"@miguelfzzz\", fontsize=11, ha=\"right\", color='grey');"
   ]
  },
  {
   "cell_type": "code",
   "execution_count": 12,
   "id": "1f1920cf",
   "metadata": {},
   "outputs": [
    {
     "ename": "SyntaxError",
     "evalue": "invalid syntax (Temp/ipykernel_1880/2838633160.py, line 14)",
     "output_type": "error",
     "traceback": [
      "\u001b[1;36m  File \u001b[1;32m\"C:\\Users\\mohammed\\AppData\\Local\\Temp/ipykernel_1880/2838633160.py\"\u001b[1;36m, line \u001b[1;32m14\u001b[0m\n\u001b[1;33m    ax.bar(col1.Location_Type, col1.Sales, color =ticker.EngFormatter '#ab90ff')\u001b[0m\n\u001b[1;37m                                                                      ^\u001b[0m\n\u001b[1;31mSyntaxError\u001b[0m\u001b[1;31m:\u001b[0m invalid syntax\n"
     ]
    }
   ],
   "source": [
    "# Which are the best locations (by number of sales)?\n",
    "best_location = train.groupby(['Location_Type'], as_index=False)['Sales'].sum()    \n",
    "best_location['Location_Type'] = best_location['Location_Type'].astype(str)\n",
    "\n",
    "# Visualization\n",
    "fig, ax = plt.subplots(figsize =(9, 6))\n",
    "fig.patch.set_facecolor('#e4f2f7')\n",
    "ax.patch.set_facecolor('#e4f2f7')\n",
    "\n",
    "# For changing colors\n",
    "col1 = best_location.head(1)\n",
    "col2 = best_location.tail(4)\n",
    "\n",
    "ax.bar(col1.Location_Type, col1.Sales, color =ticker.EngFormatter '#ab90ff')\n",
    "ax.bar(col2.Location_Type, col2.Sales, color = 'grey')\n",
    "\n",
    "# Remove ticks\n",
    "ax.xaxis.set_ticks_position('none')\n",
    "ax.yaxis.set_ticks_position('none')\n",
    "\n",
    "# Remove axes splines\n",
    "for i in ['top', 'bottom', 'left', 'right']:\n",
    "    ax.spines[i].set_visible(False)\n",
    "\n",
    "# Remove grid\n",
    "plt.grid(b=None)\n",
    "\n",
    "# Setting thousands with k\n",
    "ax.yaxis.set_major_formatter(ticker.EngFormatter())\n",
    "\n",
    "# Y axis position\n",
    "ax.spines['left'].set_position(('data', -0.5))\n",
    "\n",
    "# Font\n",
    "mpl.rcParams['font.family'] = 'Source Sans Pro'\n",
    "\n",
    "# Labels titles\n",
    "plt.xlabel('Location Types', fontsize=11)\n",
    "plt.ylabel('Number of Sales', fontsize=11, labelpad=20)\n",
    "\n",
    "# Title\n",
    "plt.text(0.26, 3750000000, \"Best\", size=22, color=\"grey\", fontweight=\"bold\")\n",
    "plt.text(0.79, 3750000000, \"Location Type\", size=22, color=\"#ab90ff\", fontweight=\"bold\")\n",
    "plt.text(2.3, 3750000000, \"by\", size=22, color=\"grey\")\n",
    "plt.text(2.6, 3750000000,\"Total Sales\", size=22, color=\"grey\", fontweight=\"bold\")\n",
    "\n",
    "# Author\n",
    "plt.text(22.5, -5000000, \"@miguelfzzz\", fontsize=11, ha=\"right\", color='grey');"
   ]
  },
  {
   "cell_type": "code",
   "execution_count": 13,
   "id": "84281ebc",
   "metadata": {},
   "outputs": [
    {
     "ename": "NameError",
     "evalue": "name 'ticker' is not defined",
     "output_type": "error",
     "traceback": [
      "\u001b[1;31m---------------------------------------------------------------------------\u001b[0m",
      "\u001b[1;31mNameError\u001b[0m                                 Traceback (most recent call last)",
      "\u001b[1;32m~\\AppData\\Local\\Temp/ipykernel_1880/2343417952.py\u001b[0m in \u001b[0;36m<module>\u001b[1;34m\u001b[0m\n\u001b[0;32m     27\u001b[0m \u001b[1;33m\u001b[0m\u001b[0m\n\u001b[0;32m     28\u001b[0m \u001b[1;31m# Setting thousands with k\u001b[0m\u001b[1;33m\u001b[0m\u001b[1;33m\u001b[0m\u001b[0m\n\u001b[1;32m---> 29\u001b[1;33m \u001b[0max\u001b[0m\u001b[1;33m.\u001b[0m\u001b[0myaxis\u001b[0m\u001b[1;33m.\u001b[0m\u001b[0mset_major_formatter\u001b[0m\u001b[1;33m(\u001b[0m\u001b[0mticker\u001b[0m\u001b[1;33m.\u001b[0m\u001b[0mEngFormatter\u001b[0m\u001b[1;33m(\u001b[0m\u001b[1;33m)\u001b[0m\u001b[1;33m)\u001b[0m\u001b[1;33m\u001b[0m\u001b[1;33m\u001b[0m\u001b[0m\n\u001b[0m\u001b[0;32m     30\u001b[0m \u001b[1;33m\u001b[0m\u001b[0m\n\u001b[0;32m     31\u001b[0m \u001b[1;31m# Y axis position\u001b[0m\u001b[1;33m\u001b[0m\u001b[1;33m\u001b[0m\u001b[0m\n",
      "\u001b[1;31mNameError\u001b[0m: name 'ticker' is not defined"
     ]
    },
    {
     "data": {
      "image/png": "[encoded data removed]",
      "text/plain": [
       "<Figure size 648x432 with 1 Axes>"
      ]
     },
     "metadata": {},
     "output_type": "display_data"
    }
   ],
   "source": [
    "# Which are the best regions (by number of sales)?\n",
    "best_region = train.groupby(['Region_Code'], as_index=False)['Sales'].sum()    \n",
    "best_region['Region_Code'] = best_region['Region_Code'].astype(str)\n",
    "\n",
    "# Visualization\n",
    "fig, ax = plt.subplots(figsize =(9, 6))\n",
    "fig.patch.set_facecolor('#e4f2f7')\n",
    "ax.patch.set_facecolor('#e4f2f7')\n",
    "\n",
    "# For changing colors\n",
    "col1 = best_region.head(1)\n",
    "col2 = best_region.tail(3)\n",
    "\n",
    "ax.bar(col1.Region_Code, col1.Sales, color = '#ffab90')\n",
    "ax.bar(col2.Region_Code, col2.Sales, color = 'grey')\n",
    "\n",
    "# Remove ticks\n",
    "ax.xaxis.set_ticks_position('none')\n",
    "ax.yaxis.set_ticks_position('none')\n",
    "\n",
    "# Remove axes splines\n",
    "for i in ['top', 'bottom', 'left', 'right']:\n",
    "    ax.spines[i].set_visible(False)\n",
    "\n",
    "# Remove grid\n",
    "plt.grid(b=None)\n",
    "\n",
    "# Setting thousands with k\n",
    "ax.yaxis.set_major_formatter(ticker.EngFormatter())\n",
    "\n",
    "# Y axis position\n",
    "ax.spines['left'].set_position(('data', -0.5))\n",
    "\n",
    "# Font\n",
    "mpl.rcParams['font.family'] = 'Source Sans Pro'\n",
    "\n",
    "# Labels titles\n",
    "plt.xlabel('Region Codes', fontsize=11)\n",
    "plt.ylabel('Number of Sales', fontsize=11, labelpad=20)\n",
    "\n",
    "# Title\n",
    "plt.text(0.4, 3200000000, \"Best\", size=22, color=\"grey\", fontweight=\"bold\")\n",
    "plt.text(0.79, 3200000000, \"Regions\", size=22, color=\"#ffab90\", fontweight=\"bold\")\n",
    "plt.text(1.47, 3200000000, \"by\", size=22, color=\"grey\")\n",
    "plt.text(1.71, 3200000000,\"Total Sales\", size=22, color=\"grey\", fontweight=\"bold\")\n",
    "\n",
    "# Author\n",
    "plt.text(22.5, -5000000, \"@miguelfzzz\", fontsize=11, ha=\"right\", color='grey');"
   ]
  },
  {
   "cell_type": "code",
   "execution_count": 14,
   "id": "228e450c",
   "metadata": {},
   "outputs": [
    {
     "data": {
      "text/html": [
       "<div>\n",
       "<style scoped>\n",
       "    .dataframe tbody tr th:only-of-type {\n",
       "        vertical-align: middle;\n",
       "    }\n",
       "\n",
       "    .dataframe tbody tr th {\n",
       "        vertical-align: top;\n",
       "    }\n",
       "\n",
       "    .dataframe thead th {\n",
       "        text-align: right;\n",
       "    }\n",
       "</style>\n",
       "<table border=\"1\" class=\"dataframe\">\n",
       "  <thead>\n",
       "    <tr style=\"text-align: right;\">\n",
       "      <th></th>\n",
       "      <th>ID</th>\n",
       "      <th>Store_id</th>\n",
       "      <th>Store_Type</th>\n",
       "      <th>Location_Type</th>\n",
       "      <th>Region_Code</th>\n",
       "      <th>Date</th>\n",
       "      <th>Holiday</th>\n",
       "      <th>Discount</th>\n",
       "      <th>#Order</th>\n",
       "      <th>Sales</th>\n",
       "    </tr>\n",
       "  </thead>\n",
       "  <tbody>\n",
       "    <tr>\n",
       "      <th>0</th>\n",
       "      <td>T1000001</td>\n",
       "      <td>1</td>\n",
       "      <td>S1</td>\n",
       "      <td>L3</td>\n",
       "      <td>R1</td>\n",
       "      <td>2018-01-01</td>\n",
       "      <td>1</td>\n",
       "      <td>1</td>\n",
       "      <td>9</td>\n",
       "      <td>7011.84</td>\n",
       "    </tr>\n",
       "    <tr>\n",
       "      <th>1</th>\n",
       "      <td>T1000002</td>\n",
       "      <td>253</td>\n",
       "      <td>S4</td>\n",
       "      <td>L2</td>\n",
       "      <td>R1</td>\n",
       "      <td>2018-01-01</td>\n",
       "      <td>1</td>\n",
       "      <td>1</td>\n",
       "      <td>60</td>\n",
       "      <td>51789.12</td>\n",
       "    </tr>\n",
       "    <tr>\n",
       "      <th>2</th>\n",
       "      <td>T1000003</td>\n",
       "      <td>252</td>\n",
       "      <td>S3</td>\n",
       "      <td>L2</td>\n",
       "      <td>R1</td>\n",
       "      <td>2018-01-01</td>\n",
       "      <td>1</td>\n",
       "      <td>1</td>\n",
       "      <td>42</td>\n",
       "      <td>36868.20</td>\n",
       "    </tr>\n",
       "    <tr>\n",
       "      <th>3</th>\n",
       "      <td>T1000004</td>\n",
       "      <td>251</td>\n",
       "      <td>S2</td>\n",
       "      <td>L3</td>\n",
       "      <td>R1</td>\n",
       "      <td>2018-01-01</td>\n",
       "      <td>1</td>\n",
       "      <td>1</td>\n",
       "      <td>23</td>\n",
       "      <td>19715.16</td>\n",
       "    </tr>\n",
       "    <tr>\n",
       "      <th>4</th>\n",
       "      <td>T1000005</td>\n",
       "      <td>250</td>\n",
       "      <td>S2</td>\n",
       "      <td>L3</td>\n",
       "      <td>R4</td>\n",
       "      <td>2018-01-01</td>\n",
       "      <td>1</td>\n",
       "      <td>1</td>\n",
       "      <td>62</td>\n",
       "      <td>45614.52</td>\n",
       "    </tr>\n",
       "  </tbody>\n",
       "</table>\n",
       "</div>"
      ],
      "text/plain": [
       "         ID Store_id Store_Type Location_Type Region_Code       Date Holiday  \\\n",
       "0  T1000001        1         S1            L3          R1 2018-01-01       1   \n",
       "1  T1000002      253         S4            L2          R1 2018-01-01       1   \n",
       "2  T1000003      252         S3            L2          R1 2018-01-01       1   \n",
       "3  T1000004      251         S2            L3          R1 2018-01-01       1   \n",
       "4  T1000005      250         S2            L3          R4 2018-01-01       1   \n",
       "\n",
       "  Discount  #Order     Sales  \n",
       "0        1       9   7011.84  \n",
       "1        1      60  51789.12  \n",
       "2        1      42  36868.20  \n",
       "3        1      23  19715.16  \n",
       "4        1      62  45614.52  "
      ]
     },
     "execution_count": 14,
     "metadata": {},
     "output_type": "execute_result"
    }
   ],
   "source": [
    "# Let's check the data again\n",
    "train.head()"
   ]
  },
  {
   "cell_type": "code",
   "execution_count": 15,
   "id": "f2f26c36",
   "metadata": {},
   "outputs": [
    {
     "name": "stderr",
     "output_type": "stream",
     "text": [
      "C:\\Users\\mohammed\\AppData\\Local\\Temp/ipykernel_1880/947219649.py:2: FutureWarning: In a future version of pandas all arguments of DataFrame.drop except for the argument 'labels' will be keyword-only\n",
      "  train = train.drop('ID', 1)\n"
     ]
    }
   ],
   "source": [
    "# Remove \"ID\" \n",
    "train = train.drop('ID', 1)"
   ]
  },
  {
   "cell_type": "code",
   "execution_count": 16,
   "id": "862aed40",
   "metadata": {},
   "outputs": [
    {
     "name": "stdout",
     "output_type": "stream",
     "text": [
      "Data type per variable:\n",
      "Store_id                 object\n",
      "Store_Type               object\n",
      "Location_Type            object\n",
      "Region_Code              object\n",
      "Date             datetime64[ns]\n",
      "Holiday                  object\n",
      "Discount                 object\n",
      "#Order                    int64\n",
      "Sales                   float64\n",
      "dtype: object\n"
     ]
    }
   ],
   "source": [
    "# Data types\n",
    "print('Data type per variable:')\n",
    "print(train.dtypes)"
   ]
  },
  {
   "cell_type": "code",
   "execution_count": 17,
   "id": "db12b446",
   "metadata": {},
   "outputs": [],
   "source": [
    "train[['Store_id','Holiday', 'Discount']] = train[['Store_id', 'Holiday', 'Discount']].astype(int)"
   ]
  },
  {
   "cell_type": "code",
   "execution_count": 18,
   "id": "50f08a68",
   "metadata": {},
   "outputs": [
    {
     "name": "stderr",
     "output_type": "stream",
     "text": [
      "C:\\Users\\mohammed\\AppData\\Local\\Temp/ipykernel_1880/1060469910.py:1: DeprecationWarning: `np.object` is a deprecated alias for the builtin `object`. To silence this warning, use `object` by itself. Doing this will not modify any behavior and is safe. \n",
      "Deprecated in NumPy 1.20; for more details and guidance: https://numpy.org/devdocs/release/1.20.0-notes.html#deprecations\n",
      "  categ_cols = train.dtypes[train.dtypes == np.object]  # filtering by categorical variables\n"
     ]
    }
   ],
   "source": [
    "categ_cols = train.dtypes[train.dtypes == np.object]  # filtering by categorical variables\n",
    "categ_cols = categ_cols.index.tolist()     # list of categorical fields\n",
    "train = pd.get_dummies(train, columns=categ_cols, drop_first=True)   # One hot encoding"
   ]
  },
  {
   "cell_type": "code",
   "execution_count": 19,
   "id": "971e919b",
   "metadata": {},
   "outputs": [
    {
     "data": {
      "text/html": [
       "<div>\n",
       "<style scoped>\n",
       "    .dataframe tbody tr th:only-of-type {\n",
       "        vertical-align: middle;\n",
       "    }\n",
       "\n",
       "    .dataframe tbody tr th {\n",
       "        vertical-align: top;\n",
       "    }\n",
       "\n",
       "    .dataframe thead th {\n",
       "        text-align: right;\n",
       "    }\n",
       "</style>\n",
       "<table border=\"1\" class=\"dataframe\">\n",
       "  <thead>\n",
       "    <tr style=\"text-align: right;\">\n",
       "      <th></th>\n",
       "      <th>Store_id</th>\n",
       "      <th>Holiday</th>\n",
       "      <th>Discount</th>\n",
       "      <th>#Order</th>\n",
       "      <th>Sales</th>\n",
       "      <th>Store_Type_S2</th>\n",
       "      <th>Store_Type_S3</th>\n",
       "      <th>Store_Type_S4</th>\n",
       "      <th>Location_Type_L2</th>\n",
       "      <th>Location_Type_L3</th>\n",
       "      <th>...</th>\n",
       "      <th>Day_of_week_6</th>\n",
       "      <th>Weekday_1</th>\n",
       "      <th>Weekday_2</th>\n",
       "      <th>Weekday_3</th>\n",
       "      <th>Weekday_4</th>\n",
       "      <th>Weekday_5</th>\n",
       "      <th>Weekday_6</th>\n",
       "      <th>Quarter_2</th>\n",
       "      <th>Quarter_3</th>\n",
       "      <th>Quarter_4</th>\n",
       "    </tr>\n",
       "  </thead>\n",
       "  <tbody>\n",
       "    <tr>\n",
       "      <th>0</th>\n",
       "      <td>1</td>\n",
       "      <td>1</td>\n",
       "      <td>1</td>\n",
       "      <td>9</td>\n",
       "      <td>7011.84</td>\n",
       "      <td>0</td>\n",
       "      <td>0</td>\n",
       "      <td>0</td>\n",
       "      <td>0</td>\n",
       "      <td>1</td>\n",
       "      <td>...</td>\n",
       "      <td>0</td>\n",
       "      <td>0</td>\n",
       "      <td>0</td>\n",
       "      <td>0</td>\n",
       "      <td>0</td>\n",
       "      <td>0</td>\n",
       "      <td>0</td>\n",
       "      <td>0</td>\n",
       "      <td>0</td>\n",
       "      <td>0</td>\n",
       "    </tr>\n",
       "    <tr>\n",
       "      <th>1</th>\n",
       "      <td>253</td>\n",
       "      <td>1</td>\n",
       "      <td>1</td>\n",
       "      <td>60</td>\n",
       "      <td>51789.12</td>\n",
       "      <td>0</td>\n",
       "      <td>0</td>\n",
       "      <td>1</td>\n",
       "      <td>1</td>\n",
       "      <td>0</td>\n",
       "      <td>...</td>\n",
       "      <td>0</td>\n",
       "      <td>0</td>\n",
       "      <td>0</td>\n",
       "      <td>0</td>\n",
       "      <td>0</td>\n",
       "      <td>0</td>\n",
       "      <td>0</td>\n",
       "      <td>0</td>\n",
       "      <td>0</td>\n",
       "      <td>0</td>\n",
       "    </tr>\n",
       "    <tr>\n",
       "      <th>2</th>\n",
       "      <td>252</td>\n",
       "      <td>1</td>\n",
       "      <td>1</td>\n",
       "      <td>42</td>\n",
       "      <td>36868.20</td>\n",
       "      <td>0</td>\n",
       "      <td>1</td>\n",
       "      <td>0</td>\n",
       "      <td>1</td>\n",
       "      <td>0</td>\n",
       "      <td>...</td>\n",
       "      <td>0</td>\n",
       "      <td>0</td>\n",
       "      <td>0</td>\n",
       "      <td>0</td>\n",
       "      <td>0</td>\n",
       "      <td>0</td>\n",
       "      <td>0</td>\n",
       "      <td>0</td>\n",
       "      <td>0</td>\n",
       "      <td>0</td>\n",
       "    </tr>\n",
       "    <tr>\n",
       "      <th>3</th>\n",
       "      <td>251</td>\n",
       "      <td>1</td>\n",
       "      <td>1</td>\n",
       "      <td>23</td>\n",
       "      <td>19715.16</td>\n",
       "      <td>1</td>\n",
       "      <td>0</td>\n",
       "      <td>0</td>\n",
       "      <td>0</td>\n",
       "      <td>1</td>\n",
       "      <td>...</td>\n",
       "      <td>0</td>\n",
       "      <td>0</td>\n",
       "      <td>0</td>\n",
       "      <td>0</td>\n",
       "      <td>0</td>\n",
       "      <td>0</td>\n",
       "      <td>0</td>\n",
       "      <td>0</td>\n",
       "      <td>0</td>\n",
       "      <td>0</td>\n",
       "    </tr>\n",
       "    <tr>\n",
       "      <th>4</th>\n",
       "      <td>250</td>\n",
       "      <td>1</td>\n",
       "      <td>1</td>\n",
       "      <td>62</td>\n",
       "      <td>45614.52</td>\n",
       "      <td>1</td>\n",
       "      <td>0</td>\n",
       "      <td>0</td>\n",
       "      <td>0</td>\n",
       "      <td>1</td>\n",
       "      <td>...</td>\n",
       "      <td>0</td>\n",
       "      <td>0</td>\n",
       "      <td>0</td>\n",
       "      <td>0</td>\n",
       "      <td>0</td>\n",
       "      <td>0</td>\n",
       "      <td>0</td>\n",
       "      <td>0</td>\n",
       "      <td>0</td>\n",
       "      <td>0</td>\n",
       "    </tr>\n",
       "  </tbody>\n",
       "</table>\n",
       "<p>5 rows × 42 columns</p>\n",
       "</div>"
      ],
      "text/plain": [
       "   Store_id  Holiday  Discount  #Order     Sales  Store_Type_S2  \\\n",
       "0         1        1         1       9   7011.84              0   \n",
       "1       253        1         1      60  51789.12              0   \n",
       "2       252        1         1      42  36868.20              0   \n",
       "3       251        1         1      23  19715.16              1   \n",
       "4       250        1         1      62  45614.52              1   \n",
       "\n",
       "   Store_Type_S3  Store_Type_S4  Location_Type_L2  Location_Type_L3  ...  \\\n",
       "0              0              0                 0                 1  ...   \n",
       "1              0              1                 1                 0  ...   \n",
       "2              1              0                 1                 0  ...   \n",
       "3              0              0                 0                 1  ...   \n",
       "4              0              0                 0                 1  ...   \n",
       "\n",
       "   Day_of_week_6  Weekday_1  Weekday_2  Weekday_3  Weekday_4  Weekday_5  \\\n",
       "0              0          0          0          0          0          0   \n",
       "1              0          0          0          0          0          0   \n",
       "2              0          0          0          0          0          0   \n",
       "3              0          0          0          0          0          0   \n",
       "4              0          0          0          0          0          0   \n",
       "\n",
       "   Weekday_6  Quarter_2  Quarter_3  Quarter_4  \n",
       "0          0          0          0          0  \n",
       "1          0          0          0          0  \n",
       "2          0          0          0          0  \n",
       "3          0          0          0          0  \n",
       "4          0          0          0          0  \n",
       "\n",
       "[5 rows x 42 columns]"
      ]
     },
     "execution_count": 19,
     "metadata": {},
     "output_type": "execute_result"
    }
   ],
   "source": [
    "train['Year'] = train['Date'].dt.year\n",
    "train['Month'] = train['Date'].dt.month\n",
    "train['Day_of_week'] = train['Date'].dt.dayofweek\n",
    "train['Weekday'] = train['Date'].dt.weekday\n",
    "train['Quarter'] = train['Date'].dt.quarter\n",
    "\n",
    "train = train.drop(['Date'], axis = 1) \n",
    "\n",
    "train = pd.get_dummies(train, columns=['Year'], drop_first=True, prefix='Year')\n",
    "train = pd.get_dummies(train, columns=['Month'], drop_first=True, prefix='Month')\n",
    "train = pd.get_dummies(train, columns=['Day_of_week'], drop_first=True, prefix='Day_of_week')\n",
    "train = pd.get_dummies(train, columns=['Weekday'], drop_first=True, prefix='Weekday')\n",
    "train = pd.get_dummies(train, columns=['Quarter'], drop_first=True, prefix='Quarter')\n",
    "\n",
    "train.head()"
   ]
  },
  {
   "cell_type": "code",
   "execution_count": 20,
   "id": "a6871709",
   "metadata": {},
   "outputs": [
    {
     "name": "stderr",
     "output_type": "stream",
     "text": [
      "findfont: Font family ['Source Sans Pro'] not found. Falling back to DejaVu Sans.\n",
      "findfont: Font family ['Source Sans Pro'] not found. Falling back to DejaVu Sans.\n",
      "findfont: Font family ['Source Sans Pro'] not found. Falling back to DejaVu Sans.\n"
     ]
    },
    {
     "data": {
      "image/png": "[encoded data removed]",
      "text/plain": [
       "<Figure size 648x720 with 1 Axes>"
      ]
     },
     "metadata": {},
     "output_type": "display_data"
    }
   ],
   "source": [
    "corr = train[train.columns].corr()['Sales'][:].sort_values(ascending=True).to_frame()\n",
    "corr = corr.drop(corr[corr.Sales > 0.90].index)\n",
    "\n",
    "# Visualization\n",
    "fig, ax = plt.subplots(figsize =(9, 10))\n",
    "fig.patch.set_facecolor('#e4f2f7')\n",
    "ax.patch.set_facecolor('#e4f2f7')\n",
    "\n",
    "ax.barh(corr.index, corr.Sales, align='center', color = np.where(corr['Sales'] < 0, 'crimson', '#89CFF0'))\n",
    "\n",
    "ax.tick_params(axis='both', which='major', labelsize=8)\n",
    "ax.yaxis.set_label_coords(0, 0)\n",
    "\n",
    "# Remove ticks\n",
    "ax.xaxis.set_ticks_position('none')\n",
    "ax.yaxis.set_ticks_position('none')\n",
    "\n",
    "# Remove axes splines\n",
    "for i in ['top', 'bottom', 'left', 'right']:\n",
    "    ax.spines[i].set_visible(False)\n",
    "\n",
    "# Font\n",
    "mpl.rcParams['font.family'] = 'Source Sans Pro'\n",
    "\n",
    "plt.text(-0.295, 43, \"Correlation\", size=24, color=\"grey\", fontweight=\"bold\");\n",
    "plt.text(-0.055, 43, \"of\", size=24, color=\"grey\");\n",
    "plt.text(0, 43, \"Sales\", size=24, color=\"crimson\", fontweight=\"bold\");\n",
    "plt.text(0.12, 43, \"to\", size=24, color=\"grey\");\n",
    "plt.text(0.17, 43, \"Other Features\", size=24, color=\"grey\", fontweight=\"bold\");\n",
    "\n",
    "# Author\n",
    "plt.text(0.6, -7, \"@miguelfzzz\", fontsize=11, ha=\"right\", color='grey');"
   ]
  },
  {
   "cell_type": "code",
   "execution_count": 21,
   "id": "89e2c543",
   "metadata": {},
   "outputs": [],
   "source": [
    "del train['Store_id']\n",
    "del train['Year_2019']"
   ]
  },
  {
   "cell_type": "code",
   "execution_count": 22,
   "id": "9f66895d",
   "metadata": {},
   "outputs": [],
   "source": [
    "train['holiday_and_discount'] = train['Holiday'] * train['Discount']"
   ]
  },
  {
   "cell_type": "code",
   "execution_count": 23,
   "id": "ec0b7c3c",
   "metadata": {},
   "outputs": [
    {
     "name": "stderr",
     "output_type": "stream",
     "text": [
      "C:\\Users\\mohammed\\anaconda3\\lib\\site-packages\\seaborn\\_decorators.py:36: FutureWarning: Pass the following variable as a keyword arg: x. From version 0.12, the only valid positional argument will be `data`, and passing other arguments without an explicit keyword will result in an error or misinterpretation.\n",
      "  warnings.warn(\n"
     ]
    },
    {
     "ename": "NameError",
     "evalue": "name 'ticker' is not defined",
     "output_type": "error",
     "traceback": [
      "\u001b[1;31m---------------------------------------------------------------------------\u001b[0m",
      "\u001b[1;31mNameError\u001b[0m                                 Traceback (most recent call last)",
      "\u001b[1;32m~\\AppData\\Local\\Temp/ipykernel_1880/3826400820.py\u001b[0m in \u001b[0;36m<module>\u001b[1;34m\u001b[0m\n\u001b[0;32m     20\u001b[0m \u001b[1;33m\u001b[0m\u001b[0m\n\u001b[0;32m     21\u001b[0m \u001b[1;31m# Setting thousands with k\u001b[0m\u001b[1;33m\u001b[0m\u001b[1;33m\u001b[0m\u001b[0m\n\u001b[1;32m---> 22\u001b[1;33m \u001b[0max\u001b[0m\u001b[1;33m.\u001b[0m\u001b[0myaxis\u001b[0m\u001b[1;33m.\u001b[0m\u001b[0mset_major_formatter\u001b[0m\u001b[1;33m(\u001b[0m\u001b[0mticker\u001b[0m\u001b[1;33m.\u001b[0m\u001b[0mEngFormatter\u001b[0m\u001b[1;33m(\u001b[0m\u001b[1;33m)\u001b[0m\u001b[1;33m)\u001b[0m\u001b[1;33m\u001b[0m\u001b[1;33m\u001b[0m\u001b[0m\n\u001b[0m\u001b[0;32m     23\u001b[0m \u001b[0max\u001b[0m\u001b[1;33m.\u001b[0m\u001b[0mxaxis\u001b[0m\u001b[1;33m.\u001b[0m\u001b[0mset_major_formatter\u001b[0m\u001b[1;33m(\u001b[0m\u001b[0mticker\u001b[0m\u001b[1;33m.\u001b[0m\u001b[0mEngFormatter\u001b[0m\u001b[1;33m(\u001b[0m\u001b[1;33m)\u001b[0m\u001b[1;33m)\u001b[0m\u001b[1;33m\u001b[0m\u001b[1;33m\u001b[0m\u001b[0m\n\u001b[0;32m     24\u001b[0m \u001b[1;33m\u001b[0m\u001b[0m\n",
      "\u001b[1;31mNameError\u001b[0m: name 'ticker' is not defined"
     ]
    },
    {
     "data": {
      "image/png": "[encoded data removed]",
      "text/plain": [
       "<Figure size 648x288 with 1 Axes>"
      ]
     },
     "metadata": {},
     "output_type": "display_data"
    }
   ],
   "source": [
    "# Visualization\n",
    "fig, ax = plt.subplots(figsize =(9, 4))\n",
    "fig.patch.set_facecolor('#e4f2f7')\n",
    "ax.patch.set_facecolor('#e4f2f7')\n",
    "\n",
    "sns.boxplot(train.Sales);\n",
    "\n",
    "ax.tick_params(axis='both', which='major', labelsize=11)\n",
    "\n",
    "# Remove ticks\n",
    "ax.xaxis.set_ticks_position('none')\n",
    "ax.yaxis.set_ticks_position('none')\n",
    "\n",
    "# Remove axes splines\n",
    "for i in ['top', 'bottom', 'left', 'right']:\n",
    "    ax.spines[i].set_visible(False)\n",
    "\n",
    "# Remove grid\n",
    "plt.grid(b=None)\n",
    "\n",
    "# Setting thousands with k\n",
    "ax.yaxis.set_major_formatter(ticker.EngFormatter())\n",
    "ax.xaxis.set_major_formatter(ticker.EngFormatter())\n",
    "\n",
    "# Y axis position\n",
    "ax.spines['left'].set_position(('data', -0.5))\n",
    "\n",
    "# Font\n",
    "mpl.rcParams['font.family'] = 'Source Sans Pro'\n",
    "\n",
    "plt.xlabel('Sales', fontsize=11);\n",
    "\n",
    "plt.title('Sales Outliers (before)', size=22, fontweight=\"bold\");"
   ]
  },
  {
   "cell_type": "code",
   "execution_count": 24,
   "id": "66210848",
   "metadata": {},
   "outputs": [],
   "source": [
    "# Dealing with the outliers\n",
    "q1 = train['Sales'].quantile(0.25)\n",
    "q3 = train['Sales'].quantile(0.75)\n",
    "iqr = q3-q1\n",
    "Lower_tail = q1 - 1.5 * iqr\n",
    "Upper_tail = q3 + 1.5 * iqr\n",
    "med = np.median(train['Sales'])\n",
    "for i in train['Sales']:\n",
    "    if i > Upper_tail or i < Lower_tail:\n",
    "            train['Sales'] = train['Sales'].replace(i, med)\n",
    "\n",
    "# I took the code from this notebook -> https://www.kaggle.com/nareshbhat/outlier-the-silent-killer"
   ]
  },
  {
   "cell_type": "code",
   "execution_count": 25,
   "id": "fea48149",
   "metadata": {},
   "outputs": [
    {
     "name": "stderr",
     "output_type": "stream",
     "text": [
      "C:\\Users\\mohammed\\anaconda3\\lib\\site-packages\\seaborn\\_decorators.py:36: FutureWarning: Pass the following variable as a keyword arg: x. From version 0.12, the only valid positional argument will be `data`, and passing other arguments without an explicit keyword will result in an error or misinterpretation.\n",
      "  warnings.warn(\n"
     ]
    },
    {
     "ename": "NameError",
     "evalue": "name 'ticker' is not defined",
     "output_type": "error",
     "traceback": [
      "\u001b[1;31m---------------------------------------------------------------------------\u001b[0m",
      "\u001b[1;31mNameError\u001b[0m                                 Traceback (most recent call last)",
      "\u001b[1;32m~\\AppData\\Local\\Temp/ipykernel_1880/2670430012.py\u001b[0m in \u001b[0;36m<module>\u001b[1;34m\u001b[0m\n\u001b[0;32m     20\u001b[0m \u001b[1;33m\u001b[0m\u001b[0m\n\u001b[0;32m     21\u001b[0m \u001b[1;31m# Setting thousands with k\u001b[0m\u001b[1;33m\u001b[0m\u001b[1;33m\u001b[0m\u001b[0m\n\u001b[1;32m---> 22\u001b[1;33m \u001b[0max\u001b[0m\u001b[1;33m.\u001b[0m\u001b[0myaxis\u001b[0m\u001b[1;33m.\u001b[0m\u001b[0mset_major_formatter\u001b[0m\u001b[1;33m(\u001b[0m\u001b[0mticker\u001b[0m\u001b[1;33m.\u001b[0m\u001b[0mEngFormatter\u001b[0m\u001b[1;33m(\u001b[0m\u001b[1;33m)\u001b[0m\u001b[1;33m)\u001b[0m\u001b[1;33m\u001b[0m\u001b[1;33m\u001b[0m\u001b[0m\n\u001b[0m\u001b[0;32m     23\u001b[0m \u001b[0max\u001b[0m\u001b[1;33m.\u001b[0m\u001b[0mxaxis\u001b[0m\u001b[1;33m.\u001b[0m\u001b[0mset_major_formatter\u001b[0m\u001b[1;33m(\u001b[0m\u001b[0mticker\u001b[0m\u001b[1;33m.\u001b[0m\u001b[0mEngFormatter\u001b[0m\u001b[1;33m(\u001b[0m\u001b[1;33m)\u001b[0m\u001b[1;33m)\u001b[0m\u001b[1;33m\u001b[0m\u001b[1;33m\u001b[0m\u001b[0m\n\u001b[0;32m     24\u001b[0m \u001b[1;33m\u001b[0m\u001b[0m\n",
      "\u001b[1;31mNameError\u001b[0m: name 'ticker' is not defined"
     ]
    },
    {
     "data": {
      "image/png": "[encoded data removed]",
      "text/plain": [
       "<Figure size 648x288 with 1 Axes>"
      ]
     },
     "metadata": {},
     "output_type": "display_data"
    }
   ],
   "source": [
    "# Visualization\n",
    "fig, ax = plt.subplots(figsize =(9, 4))\n",
    "fig.patch.set_facecolor('#e4f2f7')\n",
    "ax.patch.set_facecolor('#e4f2f7')\n",
    "\n",
    "sns.boxplot(train['Sales']);\n",
    "\n",
    "ax.tick_params(axis='both', which='major', labelsize=11)\n",
    "\n",
    "# Remove ticks\n",
    "ax.xaxis.set_ticks_position('none')\n",
    "ax.yaxis.set_ticks_position('none')\n",
    "\n",
    "# Remove axes splines\n",
    "for i in ['top', 'bottom', 'left', 'right']:\n",
    "    ax.spines[i].set_visible(False)\n",
    "\n",
    "# Remove grid\n",
    "plt.grid(b=None)\n",
    "\n",
    "# Setting thousands with k\n",
    "ax.yaxis.set_major_formatter(ticker.EngFormatter())\n",
    "ax.xaxis.set_major_formatter(ticker.EngFormatter())\n",
    "\n",
    "# Y axis position\n",
    "ax.spines['left'].set_position(('data', -0.5))\n",
    "\n",
    "# Font\n",
    "mpl.rcParams['font.family'] = 'Source Sans Pro'\n",
    "\n",
    "plt.xlabel('Sales', fontsize=11);\n",
    "\n",
    "plt.title('Sales Outliers (after)', size=22, fontweight=\"bold\");"
   ]
  },
  {
   "cell_type": "code",
   "execution_count": null,
   "id": "6f56c237",
   "metadata": {},
   "outputs": [],
   "source": []
  },
  {
   "cell_type": "code",
   "execution_count": null,
   "id": "02134daf",
   "metadata": {},
   "outputs": [],
   "source": []
  },
  {
   "cell_type": "code",
   "execution_count": null,
   "id": "0fb774b8",
   "metadata": {},
   "outputs": [],
   "source": []
  }
 ],
 "metadata": {
  "kernelspec": {
   "display_name": "Python 3 (ipykernel)",
   "language": "python",
   "name": "python3"
  },
  "language_info": {
   "codemirror_mode": {
    "name": "ipython",
    "version": 3
   },
   "file_extension": ".py",
   "mimetype": "text/x-python",
   "name": "python",
   "nbconvert_exporter": "python",
   "pygments_lexer": "ipython3",
   "version": "3.9.7"
  }
 },
 "nbformat": 4,
 "nbformat_minor": 5
}
